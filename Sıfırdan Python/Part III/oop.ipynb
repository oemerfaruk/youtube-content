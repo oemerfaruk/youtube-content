{
 "cells": [
  {
   "cell_type": "markdown",
   "metadata": {},
   "source": [
    "# Nesne Yönelimli Programlama - OOP"
   ]
  },
  {
   "cell_type": "code",
   "execution_count": 2,
   "metadata": {},
   "outputs": [],
   "source": [
    "class Araba:\n",
    "    def __init__(self, marka,model,renk):\n",
    "        self.marka = marka\n",
    "        self.model = model\n",
    "        self.renk = renk\n",
    "\n",
    "    def bilgileri_goster(self):\n",
    "        print(f\"marka: {self.marka}\\nmodel: {self.model}\\nrenk: {self.renk}\")\n",
    "        "
   ]
  },
  {
   "cell_type": "code",
   "execution_count": 3,
   "metadata": {},
   "outputs": [],
   "source": [
    "araba1 = Araba(\"TOGG\",\"T10X\",\"Kapadokya\")"
   ]
  },
  {
   "cell_type": "code",
   "execution_count": 6,
   "metadata": {},
   "outputs": [
    {
     "name": "stdout",
     "output_type": "stream",
     "text": [
      "marka: TOGG\n",
      "model: T10X\n",
      "renk: Kapadokya\n"
     ]
    }
   ],
   "source": [
    "araba1.bilgileri_goster()"
   ]
  },
  {
   "cell_type": "markdown",
   "metadata": {},
   "source": [
    "## Kalıtım"
   ]
  },
  {
   "cell_type": "code",
   "execution_count": 10,
   "metadata": {},
   "outputs": [],
   "source": [
    "class ElektrlikliAraba(Araba):\n",
    "    def __init__(self, marka, model, renk,batarya_kapasitesi):\n",
    "        super().__init__(marka,model,renk)\n",
    "        self.batarya_kapasitesi = batarya_kapasitesi\n",
    "    \n",
    "    def bilgileri_goster(self):\n",
    "        super().bilgileri_goster()\n",
    "        print(f\"batarya kapasitesi: {self.batarya_kapasitesi}\")\n",
    "        \n"
   ]
  },
  {
   "cell_type": "code",
   "execution_count": 11,
   "metadata": {},
   "outputs": [],
   "source": [
    "araba2 = ElektrlikliAraba(\"TOGG\", \"F10X\",\"Ayder\",100)"
   ]
  },
  {
   "cell_type": "code",
   "execution_count": 16,
   "metadata": {},
   "outputs": [
    {
     "name": "stdout",
     "output_type": "stream",
     "text": [
      "<__main__.ElektrlikliAraba object at 0x0000022D482193A0>\n"
     ]
    }
   ],
   "source": [
    "print(araba2)"
   ]
  },
  {
   "cell_type": "code",
   "execution_count": 12,
   "metadata": {},
   "outputs": [
    {
     "name": "stdout",
     "output_type": "stream",
     "text": [
      "marka: TOGG\n",
      "model: F10X\n",
      "renk: Ayder\n",
      "batarya kapasitesi: 100\n"
     ]
    }
   ],
   "source": [
    "araba2.bilgileri_goster()"
   ]
  },
  {
   "cell_type": "markdown",
   "metadata": {},
   "source": [
    "## Bazı Özel Metotlar"
   ]
  },
  {
   "cell_type": "code",
   "execution_count": 26,
   "metadata": {},
   "outputs": [],
   "source": [
    "class Kitap:\n",
    "    def __init__(self,ad,yazar,sayfa_sayisi):\n",
    "        self.ad = ad\n",
    "        self.yazar = yazar\n",
    "        self.sayfa_sayisi = sayfa_sayisi\n",
    "\n",
    "    def __str__(self):\n",
    "        return f\"{self.ad} adlı kitap {self.yazar} tarafından yazılmıştır.\"\n",
    "    def __len__(self):\n",
    "        return self.sayfa_sayisi"
   ]
  },
  {
   "cell_type": "code",
   "execution_count": 27,
   "metadata": {},
   "outputs": [],
   "source": [
    "kitap = Kitap(\"İstanbul Hatırası\",\"Ahmet Ümit\",561)"
   ]
  },
  {
   "cell_type": "code",
   "execution_count": 28,
   "metadata": {},
   "outputs": [
    {
     "name": "stdout",
     "output_type": "stream",
     "text": [
      "İstanbul Hatırası adlı kitap Ahmet Ümit tarafından yazılmıştır.\n"
     ]
    }
   ],
   "source": [
    "print(kitap)"
   ]
  },
  {
   "cell_type": "code",
   "execution_count": 29,
   "metadata": {},
   "outputs": [
    {
     "name": "stdout",
     "output_type": "stream",
     "text": [
      "561\n"
     ]
    }
   ],
   "source": [
    "print(len(kitap))"
   ]
  },
  {
   "cell_type": "code",
   "execution_count": null,
   "metadata": {},
   "outputs": [],
   "source": []
  }
 ],
 "metadata": {
  "kernelspec": {
   "display_name": "Python 3",
   "language": "python",
   "name": "python3"
  },
  "language_info": {
   "codemirror_mode": {
    "name": "ipython",
    "version": 3
   },
   "file_extension": ".py",
   "mimetype": "text/x-python",
   "name": "python",
   "nbconvert_exporter": "python",
   "pygments_lexer": "ipython3",
   "version": "3.12.5"
  }
 },
 "nbformat": 4,
 "nbformat_minor": 2
}
