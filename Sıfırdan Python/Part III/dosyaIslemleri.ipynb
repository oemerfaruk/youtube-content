{
 "cells": [
  {
   "cell_type": "markdown",
   "metadata": {},
   "source": [
    "# Dosya İşlemleri"
   ]
  },
  {
   "cell_type": "markdown",
   "metadata": {},
   "source": [
    "w = writing\n",
    "\n",
    "a = append\n",
    "\n",
    "r = reading"
   ]
  },
  {
   "cell_type": "markdown",
   "metadata": {},
   "source": [
    "## Yazma"
   ]
  },
  {
   "cell_type": "code",
   "execution_count": 4,
   "metadata": {},
   "outputs": [],
   "source": [
    "dosya = open(\"deneme.txt\", \"w\")\n",
    "dosya.write(\"Merhaba Dunya!\")\n",
    "dosya.close()"
   ]
  },
  {
   "cell_type": "markdown",
   "metadata": {},
   "source": [
    "## Ekleme"
   ]
  },
  {
   "cell_type": "code",
   "execution_count": 5,
   "metadata": {},
   "outputs": [],
   "source": [
    "with open(\"deneme.txt\", \"a\") as file:\n",
    "    file.write(\"\\nBu yeni satır.\")"
   ]
  },
  {
   "cell_type": "code",
   "execution_count": 8,
   "metadata": {},
   "outputs": [],
   "source": [
    "with open(\"log.txt\", \"a\") as file:\n",
    "    for i in range(10):\n",
    "        file.write(\"Satır:\\t\" + str(i) + \"\\n\")"
   ]
  },
  {
   "cell_type": "markdown",
   "metadata": {},
   "source": [
    "## Okuma"
   ]
  },
  {
   "cell_type": "code",
   "execution_count": 9,
   "metadata": {},
   "outputs": [
    {
     "name": "stdout",
     "output_type": "stream",
     "text": [
      "Satır:\t0\n",
      "Satır:\t1\n",
      "Satır:\t2\n",
      "Satır:\t3\n",
      "Satır:\t4\n",
      "Satır:\t5\n",
      "Satır:\t6\n",
      "Satır:\t7\n",
      "Satır:\t8\n",
      "Satır:\t9\n",
      "\n"
     ]
    }
   ],
   "source": [
    "with open(\"log.txt\", \"r\") as file:\n",
    "    content = file.read()\n",
    "    print(content)"
   ]
  },
  {
   "cell_type": "code",
   "execution_count": 14,
   "metadata": {},
   "outputs": [
    {
     "name": "stdout",
     "output_type": "stream",
     "text": [
      "Satır:\t0\n",
      "-----\n",
      "Satır:\t1\n",
      "-----\n",
      "Satır:\t2\n",
      "-----\n",
      "Satır:\t3\n",
      "-----\n",
      "Satır:\t4\n",
      "-----\n",
      "Satır:\t5\n",
      "-----\n",
      "Satır:\t6\n",
      "-----\n",
      "Satır:\t7\n",
      "-----\n",
      "Satır:\t8\n",
      "-----\n",
      "Satır:\t9\n",
      "-----\n"
     ]
    }
   ],
   "source": [
    "with open(\"log.txt\", \"r\") as file:\n",
    "    for i in file:\n",
    "        print(i.strip(\"\\n\"))\n",
    "        print(\"-----\")"
   ]
  },
  {
   "cell_type": "markdown",
   "metadata": {},
   "source": [
    "## Dosya Silme"
   ]
  },
  {
   "cell_type": "code",
   "execution_count": 16,
   "metadata": {},
   "outputs": [
    {
     "name": "stdout",
     "output_type": "stream",
     "text": [
      "Dosya bulunamadı.\n"
     ]
    }
   ],
   "source": [
    "import os\n",
    "\n",
    "if os.path.exists(\"deneme.txt\"):\n",
    "    os.remove(\"deneme.txt\")\n",
    "    print(\"Dosya silindi.\")\n",
    "else:\n",
    "    print(\"Dosya bulunamadı.\")"
   ]
  },
  {
   "cell_type": "code",
   "execution_count": null,
   "metadata": {},
   "outputs": [],
   "source": []
  }
 ],
 "metadata": {
  "kernelspec": {
   "display_name": "Python 3",
   "language": "python",
   "name": "python3"
  },
  "language_info": {
   "codemirror_mode": {
    "name": "ipython",
    "version": 3
   },
   "file_extension": ".py",
   "mimetype": "text/x-python",
   "name": "python",
   "nbconvert_exporter": "python",
   "pygments_lexer": "ipython3",
   "version": "3.12.5"
  }
 },
 "nbformat": 4,
 "nbformat_minor": 2
}
