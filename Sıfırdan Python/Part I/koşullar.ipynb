{
 "cells": [
  {
   "cell_type": "markdown",
   "metadata": {},
   "source": [
    "# Koşullar"
   ]
  },
  {
   "cell_type": "markdown",
   "metadata": {},
   "source": [
    "## if elif else"
   ]
  },
  {
   "cell_type": "code",
   "execution_count": 1,
   "metadata": {},
   "outputs": [
    {
     "name": "stdout",
     "output_type": "stream",
     "text": [
      "5 is greater than 3\n"
     ]
    }
   ],
   "source": [
    "if 5 > 3:\n",
    "    print(\"5 is greater than 3\")"
   ]
  },
  {
   "cell_type": "code",
   "execution_count": 2,
   "metadata": {},
   "outputs": [],
   "source": [
    "if 3 > 3:\n",
    "    print(\"3 is greater than 3\")"
   ]
  },
  {
   "cell_type": "code",
   "execution_count": 4,
   "metadata": {},
   "outputs": [
    {
     "name": "stdout",
     "output_type": "stream",
     "text": [
      "bloktan çıkıldı\n"
     ]
    }
   ],
   "source": [
    "if 3 > 3:\n",
    "    print(\"5 is greater than 3\")\n",
    "\n",
    "print(\"bloktan çıkıldı\")"
   ]
  },
  {
   "cell_type": "code",
   "execution_count": 5,
   "metadata": {},
   "outputs": [
    {
     "name": "stdout",
     "output_type": "stream",
     "text": [
      "3 is not greater than 3\n"
     ]
    }
   ],
   "source": [
    "if 3 > 3:\n",
    "    print(\"3 is greater than 3\")\n",
    "else:\n",
    "    print(\"3 is not greater than 3\")"
   ]
  },
  {
   "cell_type": "code",
   "execution_count": 10,
   "metadata": {},
   "outputs": [
    {
     "name": "stdout",
     "output_type": "stream",
     "text": [
      "a 3'e eşit\n"
     ]
    }
   ],
   "source": [
    "a = 3\n",
    "\n",
    "if a > 3:\n",
    "    print(\"a 3'ten büyük\")\n",
    "elif a < 3:\n",
    "    print(\"a 3'ten küçük\")\n",
    "else:\n",
    "    print(\"a 3'e eşit\")"
   ]
  },
  {
   "cell_type": "markdown",
   "metadata": {},
   "source": [
    "## match-case"
   ]
  },
  {
   "cell_type": "code",
   "execution_count": 14,
   "metadata": {},
   "outputs": [
    {
     "name": "stdout",
     "output_type": "stream",
     "text": [
      "Merhaba John\n"
     ]
    }
   ],
   "source": [
    "name = \"John\"\n",
    "\n",
    "match name:\n",
    "    case \"John\":\n",
    "        print(\"Merhaba John\")\n",
    "    case \"Ömer\":\n",
    "        print(\"Merhaba Ömer\")"
   ]
  },
  {
   "cell_type": "code",
   "execution_count": null,
   "metadata": {},
   "outputs": [],
   "source": []
  }
 ],
 "metadata": {
  "kernelspec": {
   "display_name": "Python 3",
   "language": "python",
   "name": "python3"
  },
  "language_info": {
   "codemirror_mode": {
    "name": "ipython",
    "version": 3
   },
   "file_extension": ".py",
   "mimetype": "text/x-python",
   "name": "python",
   "nbconvert_exporter": "python",
   "pygments_lexer": "ipython3",
   "version": "3.12.5"
  }
 },
 "nbformat": 4,
 "nbformat_minor": 2
}
