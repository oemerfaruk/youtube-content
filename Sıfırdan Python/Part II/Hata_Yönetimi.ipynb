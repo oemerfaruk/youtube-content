{
 "cells": [
  {
   "cell_type": "markdown",
   "metadata": {},
   "source": [
    "# Hata Yönetimi"
   ]
  },
  {
   "cell_type": "code",
   "execution_count": 2,
   "metadata": {},
   "outputs": [
    {
     "name": "stdout",
     "output_type": "stream",
     "text": [
      "Bu try bloku\n"
     ]
    }
   ],
   "source": [
    "try:\n",
    "    print(\"Bu try bloku\")\n",
    "except:\n",
    "    print(\"Bu except bloku\")"
   ]
  },
  {
   "cell_type": "code",
   "execution_count": 6,
   "metadata": {},
   "outputs": [
    {
     "name": "stdout",
     "output_type": "stream",
     "text": [
      "Bu try bloku\n",
      "Bir hata oluştu\n"
     ]
    }
   ],
   "source": [
    "try:\n",
    "    print(\"Bu try bloku\")\n",
    "    print(5/0)\n",
    "    print(\"Try blok sonu\")\n",
    "except:\n",
    "    print(\"Bir hata oluştu\")"
   ]
  },
  {
   "cell_type": "code",
   "execution_count": 14,
   "metadata": {},
   "outputs": [
    {
     "name": "stdout",
     "output_type": "stream",
     "text": [
      "1.0\n",
      "2.5\n",
      "0.5\n",
      "Lütfen sadece sayı girin\n",
      "Her durumda çalışır\n"
     ]
    }
   ],
   "source": [
    "try:\n",
    "    while True:\n",
    "        number = int(input(\"Enter a number: \"))\n",
    "\n",
    "        print(5/number)\n",
    "except ZeroDivisionError:\n",
    "    print(\"Sıfıra bölme hatası\")\n",
    "except ValueError:\n",
    "    print(\"Lütfen sadece sayı girin\")\n",
    "except:\n",
    "    print(\"Bir hata oluştu\")\n",
    "finally:\n",
    "    print(\"Her durumda çalışır\")"
   ]
  },
  {
   "cell_type": "code",
   "execution_count": 20,
   "metadata": {},
   "outputs": [
    {
     "name": "stdout",
     "output_type": "stream",
     "text": [
      "2.23606797749979\n",
      "1.4142135623730951\n",
      "2.0\n",
      "2.0\n",
      "Negatif sayıların karekökü olmaz\n"
     ]
    }
   ],
   "source": [
    "def karakok(sayi):\n",
    "    if sayi < 0:\n",
    "        raise ValueError(\"Negatif sayıların karekökü olmaz\")\n",
    "    else:\n",
    "        return sayi ** 0.5\n",
    "    \n",
    "try:\n",
    "    while True:\n",
    "        number = int(input(\"Enter a number: \"))\n",
    "        print(karakok(number))\n",
    "except ValueError as e:\n",
    "    print(e)"
   ]
  },
  {
   "cell_type": "code",
   "execution_count": 23,
   "metadata": {},
   "outputs": [
    {
     "name": "stdout",
     "output_type": "stream",
     "text": [
      "Negatif sayıların karekökü olmaz\n"
     ]
    }
   ],
   "source": [
    "class NegativeNumberError(Exception):\n",
    "    def __init__(self, mesaj=\"Negatif sayıların karekökü olmaz\"):\n",
    "        self.mesaj = mesaj\n",
    "        super().__init__(self.mesaj)\n",
    "\n",
    "def karakok(sayi):\n",
    "    if sayi < 0:\n",
    "        raise NegativeNumberError(\"Negatif sayıların karekökü olmaz\")\n",
    "    else:\n",
    "        return sayi ** 0.5\n",
    "\n",
    "# number = int(input(\"Enter a number: \"))\n",
    "# print(karakok(number))\n",
    "\n",
    "try:\n",
    "    while True:\n",
    "        number = int(input(\"Enter a number: \"))\n",
    "        print(karakok(number))\n",
    "except NegativeNumberError as e:\n",
    "    print(e)"
   ]
  },
  {
   "cell_type": "code",
   "execution_count": null,
   "metadata": {},
   "outputs": [],
   "source": []
  }
 ],
 "metadata": {
  "kernelspec": {
   "display_name": "Python 3",
   "language": "python",
   "name": "python3"
  },
  "language_info": {
   "codemirror_mode": {
    "name": "ipython",
    "version": 3
   },
   "file_extension": ".py",
   "mimetype": "text/x-python",
   "name": "python",
   "nbconvert_exporter": "python",
   "pygments_lexer": "ipython3",
   "version": "3.12.5"
  }
 },
 "nbformat": 4,
 "nbformat_minor": 2
}
